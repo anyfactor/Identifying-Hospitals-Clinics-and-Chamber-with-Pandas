{
 "cells": [
  {
   "cell_type": "code",
   "execution_count": 2,
   "source": [
    "import pandas as pd"
   ],
   "outputs": [],
   "metadata": {}
  },
  {
   "cell_type": "code",
   "execution_count": 4,
   "source": [
    "df = pd.read_csv(\"./Doctors.csv\")"
   ],
   "outputs": [],
   "metadata": {}
  },
  {
   "cell_type": "markdown",
   "source": [
    "**Explanation**\n",
    "\n",
    "`value_counts` >> returns a dataframe with unique values and their respective counts in column\n",
    "\n",
    "`rename_axis` >> names the value counts df's column to unique values\n",
    "\n",
    "`reset_index` >> to normalize/reset index of the value counts df"
   ],
   "metadata": {}
  },
  {
   "cell_type": "code",
   "execution_count": 24,
   "source": [
    "address_df = df[\"Address\"].value_counts().rename_axis('unique_address').reset_index(name='counts')"
   ],
   "outputs": [],
   "metadata": {}
  },
  {
   "cell_type": "markdown",
   "source": [
    "**Determining Hospitals, Clinics, Chambers**\n",
    "\n",
    "Hospitals >> More than 20 duplicates entries of address\n",
    "\n",
    "Clinics >> More than 5 duplicates entires of address\n",
    "\n",
    "Chamber >> More than 2 Duplicate entires of address\n",
    "\n",
    "Single Practioner >> 1 Unique entrie of address\n",
    "\n",
    "---\n",
    "\n",
    "From unique address and their counts we will use conditional slicing from the address_df to get the names of the address from the `address_df`"
   ],
   "metadata": {}
  },
  {
   "cell_type": "code",
   "execution_count": 26,
   "source": [
    "hospital_address_df = address_df[(address_df[\"counts\"] > 20)]\r\n",
    "clinic_address_df = address_df[(address_df[\"counts\"] > 5) & (address_df[\"counts\"] < 21)]\r\n",
    "chamber_address_df = address_df[(address_df[\"counts\"] > 2) & (address_df[\"counts\"] < 6)]\r\n",
    "single_practioner_address_df = address_df[(address_df[\"counts\"] == 1)]"
   ],
   "outputs": [],
   "metadata": {}
  },
  {
   "cell_type": "markdown",
   "source": [
    "**From address to DataFrame**\n",
    "\n",
    "Now from the `address_df`s we are going to use `isin` to match the rows from the parent dataframe `df`"
   ],
   "metadata": {}
  },
  {
   "cell_type": "code",
   "execution_count": 27,
   "source": [
    "def save_df_csv(address_df, filename):\r\n",
    "    temp_df = df[df[\"Address\"].isin(address_df[\"unique_address\"])]\r\n",
    "    return temp_df[[\"Doctor Category\", \"Name\", \"Website\", \"Phone\", \"Address\", \"Locality\"]].to_csv(f\"{filename}.csv\", index=False)"
   ],
   "outputs": [],
   "metadata": {}
  },
  {
   "cell_type": "code",
   "execution_count": 28,
   "source": [
    "save_df_csv(hospital_address_df, \"hospital\")\r\n",
    "save_df_csv(clinic_address_df, \"clinic\")\r\n",
    "save_df_csv(chamber_address_df, \"chamber\")\r\n",
    "save_df_csv(single_practioner_address_df, \"single practioner\")"
   ],
   "outputs": [],
   "metadata": {}
  }
 ],
 "metadata": {
  "kernelspec": {
   "display_name": "Python 3.8.3 64-bit",
   "language": "python",
   "name": "python38364bit5e3eff3118e24a309db4f7ccc0840000"
  },
  "language_info": {
   "codemirror_mode": {
    "name": "ipython",
    "version": 3
   },
   "file_extension": ".py",
   "mimetype": "text/x-python",
   "name": "python",
   "nbconvert_exporter": "python",
   "pygments_lexer": "ipython3",
   "version": "3.8.3"
  }
 },
 "nbformat": 4,
 "nbformat_minor": 4
}